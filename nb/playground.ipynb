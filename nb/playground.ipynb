{
 "cells": [
  {
   "cell_type": "code",
   "id": "initial_id",
   "metadata": {
    "collapsed": true,
    "ExecuteTime": {
     "end_time": "2024-05-07T13:14:01.403671Z",
     "start_time": "2024-05-07T13:14:01.288955Z"
    }
   },
   "source": [
    "from pyvis.network import Network\n",
    "import networkx as nx\n",
    "\n",
    "# Criando um grafo exemplo com NetworkX\n",
    "G = nx.Graph()\n",
    "list_of_authors = ['Author1', 'Author2']\n",
    "list_of_projects = ['Project1', 'Project2', 'Project3']\n",
    "\n",
    "# Adicionando nós ao grafo\n",
    "for author in list_of_authors:\n",
    "    G.add_node(author, label=author, group='author', title=author)\n",
    "for project in list_of_projects:\n",
    "    G.add_node(project, label=project, group='project', title=project)\n",
    "\n",
    "# Adicionando arestas\n",
    "G.add_edge('Author1', 'Project1')\n",
    "G.add_edge('Author2', 'Project2')\n",
    "G.add_edge('Author1', 'Project3')\n",
    "\n",
    "# Inicializa a visualização Pyvis\n",
    "net = Network(notebook=True, height=\"750px\", width=\"100%\")\n",
    "net.from_nx(G)\n",
    "\n",
    "# Configurações de estilo\n",
    "net.toggle_physics(True)  # Ativar física para layout automático\n",
    "\n",
    "# Definindo cores e outras opções de estilo por grupo\n",
    "for node in net.nodes:\n",
    "    if node['group'] == 'author':\n",
    "        node['color'] = \"#97C2FC\"\n",
    "        node['shape'] = 'dot'\n",
    "    elif node['group'] == 'project':\n",
    "        node['color'] = \"#FFC0CB\"\n",
    "        node['shape'] = 'triangle'\n",
    "\n",
    "# Mostrar o grafo\n",
    "net.show(\"graph.html\")\n"
   ],
   "outputs": [
    {
     "name": "stdout",
     "output_type": "stream",
     "text": [
      "Warning: When  cdn_resources is 'local' jupyter notebook has issues displaying graphics on chrome/safari. Use cdn_resources='in_line' or cdn_resources='remote' if you have issues viewing graphics in a notebook.\n",
      "graph.html\n"
     ]
    },
    {
     "data": {
      "text/plain": [
       "<IPython.lib.display.IFrame at 0x13b034510>"
      ],
      "text/html": [
       "\n",
       "        <iframe\n",
       "            width=\"100%\"\n",
       "            height=\"750px\"\n",
       "            src=\"graph.html\"\n",
       "            frameborder=\"0\"\n",
       "            allowfullscreen\n",
       "            \n",
       "        ></iframe>\n",
       "        "
      ]
     },
     "execution_count": 1,
     "metadata": {},
     "output_type": "execute_result"
    }
   ],
   "execution_count": 1
  },
  {
   "metadata": {},
   "cell_type": "code",
   "outputs": [],
   "execution_count": null,
   "source": "",
   "id": "311ca9e796b378c7"
  }
 ],
 "metadata": {
  "kernelspec": {
   "display_name": "Python 3",
   "language": "python",
   "name": "python3"
  },
  "language_info": {
   "codemirror_mode": {
    "name": "ipython",
    "version": 2
   },
   "file_extension": ".py",
   "mimetype": "text/x-python",
   "name": "python",
   "nbconvert_exporter": "python",
   "pygments_lexer": "ipython2",
   "version": "2.7.6"
  }
 },
 "nbformat": 4,
 "nbformat_minor": 5
}
