{
 "cells": [
  {
   "cell_type": "code",
   "id": "initial_id",
   "metadata": {
    "collapsed": true
   },
   "source": [
    "! pip install networkx --quiet\n",
    "! pip install GitPython --quiet\n",
    "! pip install pandas --quiet\n",
    "! pip install pyvis --quiet"
   ],
   "outputs": [],
   "execution_count": null
  },
  {
   "metadata": {
    "ExecuteTime": {
     "end_time": "2024-05-07T14:41:25.856734Z",
     "start_time": "2024-05-07T14:41:25.851865Z"
    }
   },
   "cell_type": "code",
   "source": [
    "import sys\n",
    "sys.path.append('../src')"
   ],
   "id": "e97631c8a2a6a2a4",
   "outputs": [],
   "execution_count": 68
  },
  {
   "metadata": {
    "ExecuteTime": {
     "end_time": "2024-05-07T14:41:27.337943Z",
     "start_time": "2024-05-07T14:41:27.334404Z"
    }
   },
   "cell_type": "code",
   "source": [
    "from weeks import Weeks\n",
    "from ravendb_git import RavenDB_git"
   ],
   "id": "9a9433be955254ef",
   "outputs": [],
   "execution_count": 69
  },
  {
   "metadata": {
    "ExecuteTime": {
     "end_time": "2024-05-07T14:41:36.135945Z",
     "start_time": "2024-05-07T14:41:28.491947Z"
    }
   },
   "cell_type": "code",
   "source": [
    "start, _ = Weeks.get_previous(12)\n",
    "_, end = Weeks.get_current()\n",
    "\n",
    "ravendb = RavenDB_git(\"~/Documents/GitHub/ravendb\")\n",
    "commits = ravendb.get_commits(\"v6.0\", start, end)"
   ],
   "id": "9b9c782ed8afa569",
   "outputs": [],
   "execution_count": 70
  },
  {
   "metadata": {
    "ExecuteTime": {
     "end_time": "2024-05-07T14:41:39.801521Z",
     "start_time": "2024-05-07T14:41:39.796875Z"
    }
   },
   "cell_type": "code",
   "source": "f_commits = commits.filter_by(by='root', value='src')",
   "id": "24318389b1b75b0f",
   "outputs": [],
   "execution_count": 71
  },
  {
   "metadata": {
    "ExecuteTime": {
     "end_time": "2024-05-07T14:41:47.826734Z",
     "start_time": "2024-05-07T14:41:47.817434Z"
    }
   },
   "cell_type": "code",
   "source": "f_commits.get_summary_by_author()",
   "id": "f07776dc6b44fdce",
   "outputs": [
    {
     "data": {
      "text/plain": [
       "                author  changes       perc\n",
       "1     Damian Olszewski    34071  44.326919\n",
       "0   Arkadiusz Paliński    22243  28.938501\n",
       "2        Federico Lois     5880   7.649975\n",
       "22        shiranshalom     2006   2.609838\n",
       "8         Maciej Aszyk     1834   2.386064\n",
       "12      Michał Leśniak     1696   2.206523\n",
       "6        Karmel Indych     1384   1.800606\n",
       "11    Mateusz Bartosik     1175   1.528694\n",
       "13        Paweł Pekról     1125   1.463643\n",
       "18   efrat@ravendb.net     1050   1.366067\n",
       "7        Lev Skuditsky      928   1.207343\n",
       "21         shaharhikri      698   0.908109\n",
       "14   Rafal Kwiatkowski      680   0.884691\n",
       "3        Grisha Kotler      578   0.751987\n",
       "19                egor      360   0.468366\n",
       "9   Marcin Lewandowski      272   0.353876\n",
       "4        Igal Merhavia      241   0.313545\n",
       "15        Stav Lagziel      235   0.305739\n",
       "5       James Thompson      173   0.225076\n",
       "16                aviv      136   0.176938\n",
       "17        danielle9897       52   0.067653\n",
       "20         ravendb-bot       32   0.041633\n",
       "10         Marko Lahma       14   0.018214"
      ],
      "text/html": [
       "<div>\n",
       "<style scoped>\n",
       "    .dataframe tbody tr th:only-of-type {\n",
       "        vertical-align: middle;\n",
       "    }\n",
       "\n",
       "    .dataframe tbody tr th {\n",
       "        vertical-align: top;\n",
       "    }\n",
       "\n",
       "    .dataframe thead th {\n",
       "        text-align: right;\n",
       "    }\n",
       "</style>\n",
       "<table border=\"1\" class=\"dataframe\">\n",
       "  <thead>\n",
       "    <tr style=\"text-align: right;\">\n",
       "      <th></th>\n",
       "      <th>author</th>\n",
       "      <th>changes</th>\n",
       "      <th>perc</th>\n",
       "    </tr>\n",
       "  </thead>\n",
       "  <tbody>\n",
       "    <tr>\n",
       "      <th>1</th>\n",
       "      <td>Damian Olszewski</td>\n",
       "      <td>34071</td>\n",
       "      <td>44.326919</td>\n",
       "    </tr>\n",
       "    <tr>\n",
       "      <th>0</th>\n",
       "      <td>Arkadiusz Paliński</td>\n",
       "      <td>22243</td>\n",
       "      <td>28.938501</td>\n",
       "    </tr>\n",
       "    <tr>\n",
       "      <th>2</th>\n",
       "      <td>Federico Lois</td>\n",
       "      <td>5880</td>\n",
       "      <td>7.649975</td>\n",
       "    </tr>\n",
       "    <tr>\n",
       "      <th>22</th>\n",
       "      <td>shiranshalom</td>\n",
       "      <td>2006</td>\n",
       "      <td>2.609838</td>\n",
       "    </tr>\n",
       "    <tr>\n",
       "      <th>8</th>\n",
       "      <td>Maciej Aszyk</td>\n",
       "      <td>1834</td>\n",
       "      <td>2.386064</td>\n",
       "    </tr>\n",
       "    <tr>\n",
       "      <th>12</th>\n",
       "      <td>Michał Leśniak</td>\n",
       "      <td>1696</td>\n",
       "      <td>2.206523</td>\n",
       "    </tr>\n",
       "    <tr>\n",
       "      <th>6</th>\n",
       "      <td>Karmel Indych</td>\n",
       "      <td>1384</td>\n",
       "      <td>1.800606</td>\n",
       "    </tr>\n",
       "    <tr>\n",
       "      <th>11</th>\n",
       "      <td>Mateusz Bartosik</td>\n",
       "      <td>1175</td>\n",
       "      <td>1.528694</td>\n",
       "    </tr>\n",
       "    <tr>\n",
       "      <th>13</th>\n",
       "      <td>Paweł Pekról</td>\n",
       "      <td>1125</td>\n",
       "      <td>1.463643</td>\n",
       "    </tr>\n",
       "    <tr>\n",
       "      <th>18</th>\n",
       "      <td>efrat@ravendb.net</td>\n",
       "      <td>1050</td>\n",
       "      <td>1.366067</td>\n",
       "    </tr>\n",
       "    <tr>\n",
       "      <th>7</th>\n",
       "      <td>Lev Skuditsky</td>\n",
       "      <td>928</td>\n",
       "      <td>1.207343</td>\n",
       "    </tr>\n",
       "    <tr>\n",
       "      <th>21</th>\n",
       "      <td>shaharhikri</td>\n",
       "      <td>698</td>\n",
       "      <td>0.908109</td>\n",
       "    </tr>\n",
       "    <tr>\n",
       "      <th>14</th>\n",
       "      <td>Rafal Kwiatkowski</td>\n",
       "      <td>680</td>\n",
       "      <td>0.884691</td>\n",
       "    </tr>\n",
       "    <tr>\n",
       "      <th>3</th>\n",
       "      <td>Grisha Kotler</td>\n",
       "      <td>578</td>\n",
       "      <td>0.751987</td>\n",
       "    </tr>\n",
       "    <tr>\n",
       "      <th>19</th>\n",
       "      <td>egor</td>\n",
       "      <td>360</td>\n",
       "      <td>0.468366</td>\n",
       "    </tr>\n",
       "    <tr>\n",
       "      <th>9</th>\n",
       "      <td>Marcin Lewandowski</td>\n",
       "      <td>272</td>\n",
       "      <td>0.353876</td>\n",
       "    </tr>\n",
       "    <tr>\n",
       "      <th>4</th>\n",
       "      <td>Igal Merhavia</td>\n",
       "      <td>241</td>\n",
       "      <td>0.313545</td>\n",
       "    </tr>\n",
       "    <tr>\n",
       "      <th>15</th>\n",
       "      <td>Stav Lagziel</td>\n",
       "      <td>235</td>\n",
       "      <td>0.305739</td>\n",
       "    </tr>\n",
       "    <tr>\n",
       "      <th>5</th>\n",
       "      <td>James Thompson</td>\n",
       "      <td>173</td>\n",
       "      <td>0.225076</td>\n",
       "    </tr>\n",
       "    <tr>\n",
       "      <th>16</th>\n",
       "      <td>aviv</td>\n",
       "      <td>136</td>\n",
       "      <td>0.176938</td>\n",
       "    </tr>\n",
       "    <tr>\n",
       "      <th>17</th>\n",
       "      <td>danielle9897</td>\n",
       "      <td>52</td>\n",
       "      <td>0.067653</td>\n",
       "    </tr>\n",
       "    <tr>\n",
       "      <th>20</th>\n",
       "      <td>ravendb-bot</td>\n",
       "      <td>32</td>\n",
       "      <td>0.041633</td>\n",
       "    </tr>\n",
       "    <tr>\n",
       "      <th>10</th>\n",
       "      <td>Marko Lahma</td>\n",
       "      <td>14</td>\n",
       "      <td>0.018214</td>\n",
       "    </tr>\n",
       "  </tbody>\n",
       "</table>\n",
       "</div>"
      ]
     },
     "execution_count": 72,
     "metadata": {},
     "output_type": "execute_result"
    }
   ],
   "execution_count": 72
  },
  {
   "metadata": {
    "ExecuteTime": {
     "end_time": "2024-05-07T14:42:06.563057Z",
     "start_time": "2024-05-07T14:42:06.555508Z"
    }
   },
   "cell_type": "code",
   "source": "projects = f_commits.get_summary_by_code_project()",
   "id": "3585af6507dc672d",
   "outputs": [],
   "execution_count": 73
  },
  {
   "metadata": {
    "ExecuteTime": {
     "end_time": "2024-05-07T14:42:09.461771Z",
     "start_time": "2024-05-07T14:42:09.457118Z"
    }
   },
   "cell_type": "code",
   "source": "projects",
   "id": "ccb6789cf6d40825",
   "outputs": [
    {
     "data": {
      "text/plain": [
       "     code_project  changes       perc\n",
       "4    Raven.Studio    45637  59.410026\n",
       "3    Raven.Server    14772  19.230118\n",
       "1    Raven.Client     6019   7.835505\n",
       "7           Voron     3694   4.808831\n",
       "5         Sparrow     2712   3.530469\n",
       "6  Sparrow.Server     2433   3.167268\n",
       "0           Corax     1505   1.959202\n",
       "2  Raven.Embedded       45   0.058581"
      ],
      "text/html": [
       "<div>\n",
       "<style scoped>\n",
       "    .dataframe tbody tr th:only-of-type {\n",
       "        vertical-align: middle;\n",
       "    }\n",
       "\n",
       "    .dataframe tbody tr th {\n",
       "        vertical-align: top;\n",
       "    }\n",
       "\n",
       "    .dataframe thead th {\n",
       "        text-align: right;\n",
       "    }\n",
       "</style>\n",
       "<table border=\"1\" class=\"dataframe\">\n",
       "  <thead>\n",
       "    <tr style=\"text-align: right;\">\n",
       "      <th></th>\n",
       "      <th>code_project</th>\n",
       "      <th>changes</th>\n",
       "      <th>perc</th>\n",
       "    </tr>\n",
       "  </thead>\n",
       "  <tbody>\n",
       "    <tr>\n",
       "      <th>4</th>\n",
       "      <td>Raven.Studio</td>\n",
       "      <td>45637</td>\n",
       "      <td>59.410026</td>\n",
       "    </tr>\n",
       "    <tr>\n",
       "      <th>3</th>\n",
       "      <td>Raven.Server</td>\n",
       "      <td>14772</td>\n",
       "      <td>19.230118</td>\n",
       "    </tr>\n",
       "    <tr>\n",
       "      <th>1</th>\n",
       "      <td>Raven.Client</td>\n",
       "      <td>6019</td>\n",
       "      <td>7.835505</td>\n",
       "    </tr>\n",
       "    <tr>\n",
       "      <th>7</th>\n",
       "      <td>Voron</td>\n",
       "      <td>3694</td>\n",
       "      <td>4.808831</td>\n",
       "    </tr>\n",
       "    <tr>\n",
       "      <th>5</th>\n",
       "      <td>Sparrow</td>\n",
       "      <td>2712</td>\n",
       "      <td>3.530469</td>\n",
       "    </tr>\n",
       "    <tr>\n",
       "      <th>6</th>\n",
       "      <td>Sparrow.Server</td>\n",
       "      <td>2433</td>\n",
       "      <td>3.167268</td>\n",
       "    </tr>\n",
       "    <tr>\n",
       "      <th>0</th>\n",
       "      <td>Corax</td>\n",
       "      <td>1505</td>\n",
       "      <td>1.959202</td>\n",
       "    </tr>\n",
       "    <tr>\n",
       "      <th>2</th>\n",
       "      <td>Raven.Embedded</td>\n",
       "      <td>45</td>\n",
       "      <td>0.058581</td>\n",
       "    </tr>\n",
       "  </tbody>\n",
       "</table>\n",
       "</div>"
      ]
     },
     "execution_count": 74,
     "metadata": {},
     "output_type": "execute_result"
    }
   ],
   "execution_count": 74
  },
  {
   "metadata": {
    "ExecuteTime": {
     "end_time": "2024-05-07T14:43:03.549533Z",
     "start_time": "2024-05-07T14:43:03.530914Z"
    }
   },
   "cell_type": "code",
   "source": "f_commits.get_authors_of_project('Voron')",
   "id": "ca5ffea2dd5a07e6",
   "outputs": [
    {
     "data": {
      "text/plain": [
       "               author  changes       perc\n",
       "1       Federico Lois     2698  73.037358\n",
       "0  Arkadiusz Paliński      878  23.768273\n",
       "6                egor       67   1.813752\n",
       "4        Maciej Aszyk       21   0.568489\n",
       "5        Paweł Pekról       16   0.433135\n",
       "2       Grisha Kotler       13   0.351922\n",
       "3       Karmel Indych        1   0.027071"
      ],
      "text/html": [
       "<div>\n",
       "<style scoped>\n",
       "    .dataframe tbody tr th:only-of-type {\n",
       "        vertical-align: middle;\n",
       "    }\n",
       "\n",
       "    .dataframe tbody tr th {\n",
       "        vertical-align: top;\n",
       "    }\n",
       "\n",
       "    .dataframe thead th {\n",
       "        text-align: right;\n",
       "    }\n",
       "</style>\n",
       "<table border=\"1\" class=\"dataframe\">\n",
       "  <thead>\n",
       "    <tr style=\"text-align: right;\">\n",
       "      <th></th>\n",
       "      <th>author</th>\n",
       "      <th>changes</th>\n",
       "      <th>perc</th>\n",
       "    </tr>\n",
       "  </thead>\n",
       "  <tbody>\n",
       "    <tr>\n",
       "      <th>1</th>\n",
       "      <td>Federico Lois</td>\n",
       "      <td>2698</td>\n",
       "      <td>73.037358</td>\n",
       "    </tr>\n",
       "    <tr>\n",
       "      <th>0</th>\n",
       "      <td>Arkadiusz Paliński</td>\n",
       "      <td>878</td>\n",
       "      <td>23.768273</td>\n",
       "    </tr>\n",
       "    <tr>\n",
       "      <th>6</th>\n",
       "      <td>egor</td>\n",
       "      <td>67</td>\n",
       "      <td>1.813752</td>\n",
       "    </tr>\n",
       "    <tr>\n",
       "      <th>4</th>\n",
       "      <td>Maciej Aszyk</td>\n",
       "      <td>21</td>\n",
       "      <td>0.568489</td>\n",
       "    </tr>\n",
       "    <tr>\n",
       "      <th>5</th>\n",
       "      <td>Paweł Pekról</td>\n",
       "      <td>16</td>\n",
       "      <td>0.433135</td>\n",
       "    </tr>\n",
       "    <tr>\n",
       "      <th>2</th>\n",
       "      <td>Grisha Kotler</td>\n",
       "      <td>13</td>\n",
       "      <td>0.351922</td>\n",
       "    </tr>\n",
       "    <tr>\n",
       "      <th>3</th>\n",
       "      <td>Karmel Indych</td>\n",
       "      <td>1</td>\n",
       "      <td>0.027071</td>\n",
       "    </tr>\n",
       "  </tbody>\n",
       "</table>\n",
       "</div>"
      ]
     },
     "execution_count": 75,
     "metadata": {},
     "output_type": "execute_result"
    }
   ],
   "execution_count": 75
  },
  {
   "metadata": {
    "ExecuteTime": {
     "end_time": "2024-05-07T14:43:36.047534Z",
     "start_time": "2024-05-07T14:43:36.020138Z"
    }
   },
   "cell_type": "code",
   "source": "f_commits.get_projects_of_author('Federico Lois')",
   "id": "99228d1163991ba0",
   "outputs": [
    {
     "data": {
      "text/plain": [
       "     code_project  changes       perc\n",
       "4           Voron     2698  45.884354\n",
       "2         Sparrow     1131  19.234694\n",
       "1    Raven.Server     1030  17.517007\n",
       "3  Sparrow.Server      946  16.088435\n",
       "0           Corax       75   1.275510"
      ],
      "text/html": [
       "<div>\n",
       "<style scoped>\n",
       "    .dataframe tbody tr th:only-of-type {\n",
       "        vertical-align: middle;\n",
       "    }\n",
       "\n",
       "    .dataframe tbody tr th {\n",
       "        vertical-align: top;\n",
       "    }\n",
       "\n",
       "    .dataframe thead th {\n",
       "        text-align: right;\n",
       "    }\n",
       "</style>\n",
       "<table border=\"1\" class=\"dataframe\">\n",
       "  <thead>\n",
       "    <tr style=\"text-align: right;\">\n",
       "      <th></th>\n",
       "      <th>code_project</th>\n",
       "      <th>changes</th>\n",
       "      <th>perc</th>\n",
       "    </tr>\n",
       "  </thead>\n",
       "  <tbody>\n",
       "    <tr>\n",
       "      <th>4</th>\n",
       "      <td>Voron</td>\n",
       "      <td>2698</td>\n",
       "      <td>45.884354</td>\n",
       "    </tr>\n",
       "    <tr>\n",
       "      <th>2</th>\n",
       "      <td>Sparrow</td>\n",
       "      <td>1131</td>\n",
       "      <td>19.234694</td>\n",
       "    </tr>\n",
       "    <tr>\n",
       "      <th>1</th>\n",
       "      <td>Raven.Server</td>\n",
       "      <td>1030</td>\n",
       "      <td>17.517007</td>\n",
       "    </tr>\n",
       "    <tr>\n",
       "      <th>3</th>\n",
       "      <td>Sparrow.Server</td>\n",
       "      <td>946</td>\n",
       "      <td>16.088435</td>\n",
       "    </tr>\n",
       "    <tr>\n",
       "      <th>0</th>\n",
       "      <td>Corax</td>\n",
       "      <td>75</td>\n",
       "      <td>1.275510</td>\n",
       "    </tr>\n",
       "  </tbody>\n",
       "</table>\n",
       "</div>"
      ]
     },
     "execution_count": 76,
     "metadata": {},
     "output_type": "execute_result"
    }
   ],
   "execution_count": 76
  },
  {
   "metadata": {
    "ExecuteTime": {
     "end_time": "2024-05-07T14:55:31.914644Z",
     "start_time": "2024-05-07T14:55:31.906031Z"
    }
   },
   "cell_type": "code",
   "source": [
    "from pyvis.network import Network\n",
    "import networkx as nx\n",
    "\n",
    "class RepoGraph:\n",
    "    def __init__(self):\n",
    "        self.G = nx.Graph()\n",
    "        \n",
    "    def add_author(self, name):\n",
    "        self.G.add_node(name, label=name, group='author', title=name)\n",
    "        \n",
    "    def has_author(self, name):\n",
    "        return self.G.has_node(name)\n",
    "    \n",
    "    def add_project(self, name):\n",
    "        self.G.add_node(name, label=name, group='project', title=name)\n",
    "        \n",
    "    def add_edge(self, author, project, weight):\n",
    "        self.G.add_edge(author, project, weight=weight)\n",
    "    \n",
    "    def render(self):\n",
    "        net = Network(notebook=True, height=\"500px\", width=\"500px\")\n",
    "        net.from_nx(self.G)\n",
    "        \n",
    "        net.toggle_physics(True)\n",
    "        \n",
    "        for node in net.nodes:\n",
    "            node_group = node.get('group', 'Unknown')\n",
    "            if node_group == 'author':\n",
    "                node['color'] = \"#97C2FC\"\n",
    "                node['shape'] = 'dot'\n",
    "            elif node_group == 'project':\n",
    "                node['color'] = \"#FFC0CB\"\n",
    "                node['shape'] = 'triangle'\n",
    "        \n",
    "        net.set_options(\"\"\"\n",
    "            var options = {\n",
    "              \"interaction\": {\n",
    "                \"zoomView\": false\n",
    "              }\n",
    "            }\n",
    "            \"\"\")\n",
    "        \n",
    "        return net\n",
    "        #net.show(\"graph.html\")\n",
    "        \n",
    "\n",
    "rg = RepoGraph()"
   ],
   "id": "edb1136b489143f4",
   "outputs": [],
   "execution_count": 92
  },
  {
   "metadata": {
    "ExecuteTime": {
     "end_time": "2024-05-07T14:55:33.277052Z",
     "start_time": "2024-05-07T14:55:33.267983Z"
    }
   },
   "cell_type": "code",
   "source": [
    "import math\n",
    "\n",
    "def add_project(project_name, commits, rg):\n",
    "    rg.add_project(project_name)\n",
    "    authors = commits.get_authors_of_project(project_name)\n",
    "    \n",
    "    for index, row in authors.iterrows():\n",
    "        author = row['author']\n",
    "        changes = row['changes']  \n",
    "        rg.add_author(author)\n",
    "        rg.add_edge(author, project_name, weight=math.log1p(changes))\n",
    "        \n",
    "def add_author(author_name, commits, rg):\n",
    "    rg.add_author(author_name)\n",
    "    projects = commits.get_projects_of_author(author_name)\n",
    "    \n",
    "    for index, row in projects.iterrows():\n",
    "        project = row['code_project']\n",
    "        other_authors = commits.get_authors_of_project(project)\n",
    "        for o_index, o_row in other_authors.iterrows():\n",
    "            other_author = o_row['author']\n",
    "            other_changes = o_row['changes']\n",
    "            if rg.has_author(other_author):\n",
    "                rg.add_edge(other_author, project, weight=math.log1p(other_changes))\n",
    "        \n",
    "        changes = row['changes']  \n",
    "        rg.add_project(project)\n",
    "        rg.add_edge(author_name, project, weight=math.log1p(changes))\n",
    "    "
   ],
   "id": "5afcb59369ecc1a5",
   "outputs": [],
   "execution_count": 93
  },
  {
   "metadata": {
    "ExecuteTime": {
     "end_time": "2024-05-07T14:55:35.297429Z",
     "start_time": "2024-05-07T14:55:35.238561Z"
    }
   },
   "cell_type": "code",
   "source": [
    "add_project('Voron', commits, rg)\n",
    "rg.render().show('graph.html')"
   ],
   "id": "dc39ac66ba913ab2",
   "outputs": [
    {
     "name": "stdout",
     "output_type": "stream",
     "text": [
      "Warning: When  cdn_resources is 'local' jupyter notebook has issues displaying graphics on chrome/safari. Use cdn_resources='in_line' or cdn_resources='remote' if you have issues viewing graphics in a notebook.\n",
      "graph.html\n"
     ]
    },
    {
     "data": {
      "text/plain": [
       "<IPython.lib.display.IFrame at 0x15a1950d0>"
      ],
      "text/html": [
       "\n",
       "        <iframe\n",
       "            width=\"500px\"\n",
       "            height=\"500px\"\n",
       "            src=\"graph.html\"\n",
       "            frameborder=\"0\"\n",
       "            allowfullscreen\n",
       "            \n",
       "        ></iframe>\n",
       "        "
      ]
     },
     "execution_count": 94,
     "metadata": {},
     "output_type": "execute_result"
    }
   ],
   "execution_count": 94
  },
  {
   "metadata": {
    "ExecuteTime": {
     "end_time": "2024-05-07T14:55:44.181776Z",
     "start_time": "2024-05-07T14:55:44.153720Z"
    }
   },
   "cell_type": "code",
   "source": [
    "add_project('Corax', commits, rg)\n",
    "rg.render().show('graph.html')"
   ],
   "id": "cf88bb7c0d6d5f45",
   "outputs": [
    {
     "name": "stdout",
     "output_type": "stream",
     "text": [
      "Warning: When  cdn_resources is 'local' jupyter notebook has issues displaying graphics on chrome/safari. Use cdn_resources='in_line' or cdn_resources='remote' if you have issues viewing graphics in a notebook.\n",
      "graph.html\n"
     ]
    },
    {
     "data": {
      "text/plain": [
       "<IPython.lib.display.IFrame at 0x159b10dd0>"
      ],
      "text/html": [
       "\n",
       "        <iframe\n",
       "            width=\"500px\"\n",
       "            height=\"500px\"\n",
       "            src=\"graph.html\"\n",
       "            frameborder=\"0\"\n",
       "            allowfullscreen\n",
       "            \n",
       "        ></iframe>\n",
       "        "
      ]
     },
     "execution_count": 95,
     "metadata": {},
     "output_type": "execute_result"
    }
   ],
   "execution_count": 95
  },
  {
   "metadata": {
    "ExecuteTime": {
     "end_time": "2024-05-07T14:56:03.130682Z",
     "start_time": "2024-05-07T14:56:03.039509Z"
    }
   },
   "cell_type": "code",
   "source": [
    "add_author('Maciej Aszyk', commits, rg)\n",
    "rg.render().show('graph.html')"
   ],
   "id": "cb976a9da2bd91d2",
   "outputs": [
    {
     "name": "stdout",
     "output_type": "stream",
     "text": [
      "Warning: When  cdn_resources is 'local' jupyter notebook has issues displaying graphics on chrome/safari. Use cdn_resources='in_line' or cdn_resources='remote' if you have issues viewing graphics in a notebook.\n",
      "graph.html\n"
     ]
    },
    {
     "data": {
      "text/plain": [
       "<IPython.lib.display.IFrame at 0x15d61f1d0>"
      ],
      "text/html": [
       "\n",
       "        <iframe\n",
       "            width=\"500px\"\n",
       "            height=\"500px\"\n",
       "            src=\"graph.html\"\n",
       "            frameborder=\"0\"\n",
       "            allowfullscreen\n",
       "            \n",
       "        ></iframe>\n",
       "        "
      ]
     },
     "execution_count": 96,
     "metadata": {},
     "output_type": "execute_result"
    }
   ],
   "execution_count": 96
  },
  {
   "metadata": {},
   "cell_type": "code",
   "source": [
    "add_project('Raven.Server', commits, rg)\n",
    "rg.render().show('graph.html')"
   ],
   "id": "1f2340df4a72b111",
   "outputs": [],
   "execution_count": null
  },
  {
   "metadata": {},
   "cell_type": "code",
   "source": "",
   "id": "ac48ac42cf251724",
   "outputs": [],
   "execution_count": null
  }
 ],
 "metadata": {
  "kernelspec": {
   "display_name": "Python 3",
   "language": "python",
   "name": "python3"
  },
  "language_info": {
   "codemirror_mode": {
    "name": "ipython",
    "version": 2
   },
   "file_extension": ".py",
   "mimetype": "text/x-python",
   "name": "python",
   "nbconvert_exporter": "python",
   "pygments_lexer": "ipython2",
   "version": "2.7.6"
  }
 },
 "nbformat": 4,
 "nbformat_minor": 5
}
