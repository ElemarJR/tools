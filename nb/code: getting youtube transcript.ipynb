{
 "cells": [
  {
   "metadata": {
    "ExecuteTime": {
     "end_time": "2024-04-30T00:40:08.892340Z",
     "start_time": "2024-04-30T00:40:06.932365Z"
    }
   },
   "cell_type": "code",
   "source": "! pip install youtube_transcript_api --quiet",
   "id": "2735e734e9e9c5c5",
   "outputs": [],
   "execution_count": 1
  },
  {
   "cell_type": "code",
   "id": "initial_id",
   "metadata": {
    "collapsed": true,
    "ExecuteTime": {
     "end_time": "2024-04-30T00:44:14.977578Z",
     "start_time": "2024-04-30T00:44:14.971759Z"
    }
   },
   "source": [
    "from youtube_transcript_api import YouTubeTranscriptApi\n",
    "\n",
    "def get_transcription(video_id):\n",
    "    try:\n",
    "        transcript = YouTubeTranscriptApi.get_transcript(video_id, languages=['pt'])\n",
    "        transcript_text = '\\n'.join([t['text'] for t in transcript])\n",
    "        return transcript_text\n",
    "    except Exception as e:\n",
    "        return f\"Não foi possível obter a transcrição: {e}\""
   ],
   "outputs": [],
   "execution_count": 5
  },
  {
   "metadata": {
    "ExecuteTime": {
     "end_time": "2024-04-30T00:44:42.926284Z",
     "start_time": "2024-04-30T00:44:41.842769Z"
    }
   },
   "cell_type": "code",
   "source": [
    "transcription = get_transcription('x2Jlc1BNKQQ')\n",
    "print(transcription)"
   ],
   "id": "aff00a090aa40f1a",
   "outputs": [
    {
     "name": "stdout",
     "output_type": "stream",
     "text": [
      "cite quantos mamíferos puderem em 60\n",
      "segundos hanta babuino caribu dromedaria\n",
      "elefante foca gorila hiena I javali Leão\n",
      "responda o mais rápido que puder Que\n",
      "idade tem uma pessoa nascida em 1928\n",
      "homem ou mulher por quê específico Bob\n",
      "Ok Mais Uma\n",
      "Vez Que idade tem um homem nascido em\n",
      "1928 ainda vivo se um homem nasceu em\n",
      "1928 e ainda está vivo que idade ele tem\n",
      "em que mês é se um homem nasceu em 3 de\n",
      "outubro de\n",
      "1928 e ainda está vivo que idade Ele tem\n",
      "a que horas às 10 horas ah da noite onde\n",
      "em qualquer lugar vamos ser específicos\n",
      "Bob se o cara ainda está vivo nasceu na\n",
      "Califórnia em 3 de outubro de 1928 às 22\n",
      "horas ele tem 67 anos 9 meses 22 dias 14\n",
      "horas e 12 minutos se ele nasceu em Nova\n",
      "Yorque é 3 horas mais velho\n"
     ]
    }
   ],
   "execution_count": 7
  },
  {
   "metadata": {},
   "cell_type": "code",
   "outputs": [],
   "execution_count": null,
   "source": "",
   "id": "230806b060b58efd"
  }
 ],
 "metadata": {
  "kernelspec": {
   "display_name": "Python 3",
   "language": "python",
   "name": "python3"
  },
  "language_info": {
   "codemirror_mode": {
    "name": "ipython",
    "version": 2
   },
   "file_extension": ".py",
   "mimetype": "text/x-python",
   "name": "python",
   "nbconvert_exporter": "python",
   "pygments_lexer": "ipython2",
   "version": "2.7.6"
  }
 },
 "nbformat": 4,
 "nbformat_minor": 5
}
